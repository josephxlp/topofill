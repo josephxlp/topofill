{
 "cells": [
  {
   "cell_type": "code",
   "execution_count": 4,
   "id": "c5df026e",
   "metadata": {},
   "outputs": [],
   "source": [
    "import os \n",
    "from uvars import fi_tile,emg08_tile,esa_tile\n",
    "from fillers import gfill_with_data, gdal_fillnodata #gfill_with_constant,\n",
    "\n",
    "def prep_outfile_format(outdir, fi):\n",
    "    os.makedirs(outdir, exist_ok=True)\n",
    "    fwconst = f\"{outdir}/{os.path.basename(fi)[:-4]}_gF1.tif\" # fconst e.g. zero f1\n",
    "    fwgeoid = f\"{outdir}/{os.path.basename(fi)[:-4]}_gF2.tif\" # egm  f2 =\n",
    "    finterp = f\"{outdir}/{os.path.basename(fi)[:-4]}_gF3.tif\" # iwd f3 =\n",
    "    return fwconst,fwgeoid,finterp"
   ]
  },
  {
   "cell_type": "code",
   "execution_count": 3,
   "id": "a97f1df8",
   "metadata": {},
   "outputs": [],
   "source": [
    "dir_tile = os.path.dirname(fi_tile)\n",
    "fwconst,fwgeoid,finterp = prep_outfile_format(outdir=dir_tile, fi=fi_tile)"
   ]
  },
  {
   "cell_type": "code",
   "execution_count": null,
   "id": "00b03620",
   "metadata": {},
   "outputs": [],
   "source": [
    "gfill_with_data(fi=fi_tile, fi_fill=emg08_tile, esa=esa_tile, \n",
    "                fo=fwgeoid, fo_mask=None, \n",
    "                chunk_size=1024, threshold=-30, nodata_out=-9999)"
   ]
  },
  {
   "cell_type": "code",
   "execution_count": null,
   "id": "9c14a865",
   "metadata": {},
   "outputs": [],
   "source": [
    "for method in [\"nearest\",\"inv_dist\"]:\n",
    "    gdal_fillnodata(src_path=fwgeoid, dst_path=finterp, \n",
    "                    md=200, si=10,method=method, output_format=\"GTiff\", band=1)\n",
    "# need to run just one "
   ]
  },
  {
   "cell_type": "code",
   "execution_count": null,
   "id": "2032ccd1",
   "metadata": {},
   "outputs": [],
   "source": [
    "gdal_fillnodata(src_path=fwgeoid, dst_path=finterp, \n",
    "                    md=1000, si=10,method=method, output_format=\"GTiff\", band=1)"
   ]
  },
  {
   "cell_type": "code",
   "execution_count": null,
   "id": "bd3746ea",
   "metadata": {},
   "outputs": [],
   "source": []
  }
 ],
 "metadata": {
  "kernelspec": {
   "display_name": "agluon",
   "language": "python",
   "name": "python3"
  },
  "language_info": {
   "codemirror_mode": {
    "name": "ipython",
    "version": 3
   },
   "file_extension": ".py",
   "mimetype": "text/x-python",
   "name": "python",
   "nbconvert_exporter": "python",
   "pygments_lexer": "ipython3",
   "version": "3.11.11"
  }
 },
 "nbformat": 4,
 "nbformat_minor": 5
}
